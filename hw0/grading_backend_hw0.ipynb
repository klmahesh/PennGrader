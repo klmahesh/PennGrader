{
  "nbformat": 4,
  "nbformat_minor": 0,
  "metadata": {
    "colab": {
      "name": "grading_backend_hw0.ipynb",
      "provenance": [],
      "collapsed_sections": [],
      "include_colab_link": true
    },
    "kernelspec": {
      "display_name": "Python 3",
      "language": "python",
      "name": "python3"
    },
    "language_info": {
      "codemirror_mode": {
        "name": "ipython",
        "version": 3
      },
      "file_extension": ".py",
      "mimetype": "text/x-python",
      "name": "python",
      "nbconvert_exporter": "python",
      "pygments_lexer": "ipython3",
      "version": "3.9.6"
    }
  },
  "cells": [
    {
      "cell_type": "markdown",
      "metadata": {
        "id": "view-in-github",
        "colab_type": "text"
      },
      "source": [
        "<a href=\"https://colab.research.google.com/github/klmahesh/PennGrader/blob/master/hw0/grading_backend_hw0.ipynb\" target=\"_parent\"><img src=\"https://colab.research.google.com/assets/colab-badge.svg\" alt=\"Open In Colab\"/></a>"
      ]
    },
    {
      "cell_type": "code",
      "metadata": {
        "colab": {
          "base_uri": "https://localhost:8080/"
        },
        "id": "YlQcoVoTeUex",
        "outputId": "59f3831a-cd79-4c24-c80e-fe44040518a8"
      },
      "source": [
        "# last update\n",
        "from datetime import datetime\n",
        "now = datetime.now()\n",
        "print (\"Last updated: {}\".format(now.strftime(\"%Y-%m-%d %H:%M:%S\")))"
      ],
      "execution_count": 1,
      "outputs": [
        {
          "output_type": "stream",
          "name": "stdout",
          "text": [
            "Last updated: 2022-01-08 00:56:23\n"
          ]
        }
      ]
    },
    {
      "cell_type": "markdown",
      "metadata": {
        "id": "WUeZVfHZmIyB"
      },
      "source": [
        "## Change Log:\n",
        "- Edited Time: 2021-09-02 17:07:32\n",
        "For Question 2b testcase, changed test case input from python list to numpy array. ```xs = [math.exp(i*2.4)/3 for i in range(3)]``` to ```xs = np.array([math.exp(i*2.4)/3 for i in range(3)])```"
      ]
    },
    {
      "cell_type": "markdown",
      "metadata": {
        "id": "WsKAYwi2eUey"
      },
      "source": [
        "# PennGrader Setup - HW0\n",
        "- Use this notebook to set up coding homework assignment and update test cases. "
      ]
    },
    {
      "cell_type": "markdown",
      "metadata": {
        "id": "GmocKN-IeUez"
      },
      "source": [
        "Run the following \n",
        " cells to initialize the PennGrader Backend."
      ]
    },
    {
      "cell_type": "code",
      "metadata": {
        "colab": {
          "base_uri": "https://localhost:8080/"
        },
        "id": "9vhmSb_VLeRW",
        "outputId": "b96ebf98-2a0e-4cfe-d7c1-931ca35a538a"
      },
      "source": [
        "!pip install PyYAML"
      ],
      "execution_count": 2,
      "outputs": [
        {
          "output_type": "stream",
          "name": "stdout",
          "text": [
            "Requirement already satisfied: PyYAML in /usr/local/lib/python3.7/dist-packages (3.13)\n"
          ]
        }
      ]
    },
    {
      "cell_type": "code",
      "metadata": {
        "id": "bZ9yDmeOLjPh"
      },
      "source": [
        "import json\n",
        "import dill\n",
        "import base64\n",
        "import types\n",
        "import ast\n",
        "import types\n",
        "import urllib.request\n",
        "#import pandas as pd\n",
        "import numpy as np\n",
        "from datetime import datetime\n",
        "import inspect\n",
        "from difflib import SequenceMatcher\n",
        "\n",
        "from urllib.error import HTTPError\n",
        "\n",
        "# Request types\n",
        "HOMEWORK_ID_REQUEST     = 'GET_HOMEWORK_ID'\n",
        "UPDATE_METADATA_REQUEST = 'UPDATE_METADATA'\n",
        "UPDATE_TESTS_REQUEST    = 'UPDATE_TESTS'\n",
        "\n",
        "def is_function(val):\n",
        "    return inspect.isfunction(val)\n",
        "\n",
        "def is_module(val):\n",
        "    return inspect.ismodule(val)\n",
        "\n",
        "def is_class(val):\n",
        "    return inspect.isclass(val)\n",
        "\n",
        "def is_external(name):\n",
        "    return name not in ['__builtin__','__builtins__', 'penngrader','_sh', '__main__'] and 'penngrader' not in name\n",
        "\n",
        "\n",
        "class PennGraderBackend:\n",
        "    \n",
        "    def __init__(self, secret_key, homework_number):\n",
        "        self.secret_key = secret_key\n",
        "        self.homework_number = homework_number\n",
        "        self.homework_id = self._get_homework_id()\n",
        "        if 'Error' not in self.homework_id:\n",
        "            response  = 'Success! Teacher backend initialized.\\n\\n'\n",
        "            response += 'Homework ID: {}'.format(self.homework_id)\n",
        "            print(response)\n",
        "        else:\n",
        "            print(self.homework_id)\n",
        "            \n",
        "    def update_metadata(self, deadline, total_score, max_daily_submissions):\n",
        "        request = { \n",
        "            'homework_number' : self.homework_number, \n",
        "            'secret_key' : self.secret_key, \n",
        "            'request_type' : UPDATE_METADATA_REQUEST,\n",
        "            'payload' : self._serialize({\n",
        "                'max_daily_submissions' : max_daily_submissions,\n",
        "                'total_score' : total_score,\n",
        "                'deadline' : deadline\n",
        "            })\n",
        "        }\n",
        "        print(self._send_request(request, config_api_url, config_api_key))\n",
        "    \n",
        "            \n",
        "    def update_test_cases(self):\n",
        "        request = { \n",
        "            'homework_number' : self.homework_number, \n",
        "            'secret_key' : self.secret_key, \n",
        "            'request_type' : UPDATE_TESTS_REQUEST,\n",
        "            'payload' : self._serialize({\n",
        "                'libraries'  : self._get_imported_libraries(),\n",
        "                'test_cases' : self._get_test_cases(),\n",
        "            })\n",
        "        }\n",
        "        print(self._send_request(request, config_api_url, config_api_key))\n",
        "    \n",
        "    \n",
        "    def _get_homework_id(self):\n",
        "        request = { \n",
        "            'homework_number' : self.homework_number,\n",
        "            'secret_key' : self.secret_key,\n",
        "            'request_type' : HOMEWORK_ID_REQUEST,\n",
        "            'payload' : self._serialize(None)\n",
        "        }\n",
        "        return self._send_request(request, config_api_url, config_api_key)\n",
        "\n",
        "        \n",
        "    def _send_request(self, request, api_url, api_key):\n",
        "        params = json.dumps(request).encode('utf-8')\n",
        "        headers = {'content-type': 'application/json', 'x-api-key': api_key}\n",
        "        try:\n",
        "          request = urllib.request.Request(api_url, data=params, headers=headers)\n",
        "        except err:\n",
        "          return 'Request builder error: {}'.format(err.read().decode(\"utf-8\")) \n",
        "        try:\n",
        "            response = urllib.request.urlopen(request)\n",
        "            return '{}'.format(response.read().decode('utf-8'))\n",
        "        except HTTPError as error:\n",
        "            return 'Http Error: {}'.format(error.read().decode(\"utf-8\")) \n",
        "        \n",
        "    \n",
        "    def _get_imported_libraries(self):\n",
        "        # Get all externally imported base packages\n",
        "        packages = set() # (package, shortname)\n",
        "        for shortname, val in list(globals().items()):\n",
        "            if is_module(val) and is_external(shortname):\n",
        "                base_package = val.__name__.split('.')[0]\n",
        "                if base_package != 'google' and base_package != 'yaml':\n",
        "                  packages.add(base_package)\n",
        "            if (is_function(val) or is_class(val)) and is_external(val.__module__):\n",
        "                base_package = val.__module__.split('.')[0]\n",
        "                packages.add(base_package)\n",
        "        print ('Importing packages ', packages)\n",
        "\n",
        "        # Get all sub-imports i.e import sklearn.svm etc \n",
        "        imports = set() # (module path , shortname )\n",
        "        for shortname, val in list(globals().items()):\n",
        "            if is_module(val) and is_external(shortname):\n",
        "                if val.__name__ in packages:\n",
        "                    packages.remove(val.__name__)\n",
        "                if shortname != 'drive' and shortname != 'yaml':\n",
        "                  imports.add((val.__name__, shortname))\n",
        "\n",
        "        print ('Importing libraries ', imports)\n",
        "        # Get all function imports \n",
        "        functions = set() # (module path , function name)\n",
        "        for shortname, val in list(globals().items()):\n",
        "            if is_function(val)and is_external(val.__module__):\n",
        "                functions.add((val.__module__, shortname))     \n",
        "        print ('Importing functions ', functions)\n",
        "\n",
        "        return {\n",
        "            'packages' : list(packages), \n",
        "            'imports' : list(imports), \n",
        "            'functions' : list(functions)\n",
        "        }\n",
        "\n",
        "    \n",
        "    def _get_test_cases(self):\n",
        "        # Get all function imports \n",
        "        test_cases = {}\n",
        "        for shortname, val in list(globals().items()):\n",
        "            try:\n",
        "                if val and is_function(val) and not is_external(val.__module__) and \\\n",
        "                'penngrader' not in val.__module__:\n",
        "                  test_cases[shortname] = inspect.getsource(val)   \n",
        "                  print ('Adding case {}', shortname)\n",
        "            except:\n",
        "                print ('Skipping {}', shortname)\n",
        "                pass\n",
        "        return test_cases\n",
        "\n",
        "    \n",
        "    def _serialize(self, obj):\n",
        "        '''Dill serializes Python object into a UTF-8 string'''\n",
        "        byte_serialized = dill.dumps(obj, recurse = False)\n",
        "        return base64.b64encode(byte_serialized).decode(\"utf-8\")\n",
        "\n",
        "    \n",
        "    def _deserialize(self, obj):\n",
        "        byte_decoded = base64.b64decode(obj)\n",
        "        return dill.loads(byte_decoded)"
      ],
      "execution_count": 3,
      "outputs": []
    },
    {
      "cell_type": "markdown",
      "metadata": {
        "id": "eQ7CBomHeUe2"
      },
      "source": [
        "## Backend Initialization\n",
        "- For this step, you will need a *config.yaml* file, which is under the root directory of the coding homework repo."
      ]
    },
    {
      "cell_type": "code",
      "metadata": {
        "id": "hj02TW4OLkzg"
      },
      "source": [
        "import yaml\n",
        "\n",
        "with open(r\"config.yaml\") as config_file:\n",
        "    student_ids = []\n",
        "    config = yaml.load(config_file)\n",
        "\n",
        "    config_api_url = config['config_api_url']\n",
        "    config_api_key = config['config_api_key']\n",
        "\n",
        "    SECRET_KEY      = config['secret_id']\n",
        "\n",
        "    # Change this for later homeworks\n",
        "    HOMEWORK_NUMBER = 0"
      ],
      "execution_count": 5,
      "outputs": []
    },
    {
      "cell_type": "code",
      "metadata": {
        "colab": {
          "base_uri": "https://localhost:8080/"
        },
        "id": "KGX-PMBNLmvR",
        "outputId": "b5df5060-6c63-47d6-bc7d-b492b3d70473"
      },
      "source": [
        "backend = PennGraderBackend(secret_key = SECRET_KEY, homework_number = HOMEWORK_NUMBER)"
      ],
      "execution_count": 6,
      "outputs": [
        {
          "output_type": "stream",
          "name": "stdout",
          "text": [
            "Success! Teacher backend initialized.\n",
            "\n",
            "Homework ID: CIS_519_Spring22_HW0\n"
          ]
        }
      ]
    },
    {
      "cell_type": "markdown",
      "metadata": {
        "id": "jTV2wiCwMZyq"
      },
      "source": [
        "## METADATA\n",
        "Homework metadata:"
      ]
    },
    {
      "cell_type": "code",
      "metadata": {
        "id": "tExdV_FnLxLC"
      },
      "source": [
        "TOTAL_SCORE = 35\n",
        "# Beware AWS is set to UTC, so account for this in deadlines!\n",
        "DEADLINE = '2022-01-24 5:00 PM'             # 11:59 PM E.D.T\n",
        "MAX_DAILY_TEST_CASE_SUBMISSIONS = 100"
      ],
      "execution_count": 8,
      "outputs": []
    },
    {
      "cell_type": "code",
      "metadata": {
        "colab": {
          "base_uri": "https://localhost:8080/"
        },
        "id": "-GEKvHhtMYkV",
        "outputId": "2f8f432d-1f70-453d-f12a-ae44491274b6"
      },
      "source": [
        "backend.update_metadata(DEADLINE, TOTAL_SCORE, MAX_DAILY_TEST_CASE_SUBMISSIONS)"
      ],
      "execution_count": 9,
      "outputs": [
        {
          "output_type": "stream",
          "name": "stdout",
          "text": [
            "Success! Metadata updated.\n",
            "\n",
            "Total HW Points: 35\n",
            "Deadline: 2022-01-24 17:00:00\n",
            "Max daily submissions per test case: 100\n",
            "\n"
          ]
        }
      ]
    },
    {
      "cell_type": "markdown",
      "metadata": {
        "id": "AtPl0V-IMke-"
      },
      "source": [
        "## TEST CASES\n",
        "\n",
        "Follow the example test case below"
      ]
    },
    {
      "cell_type": "code",
      "metadata": {
        "id": "_L5TPlm_MhKO"
      },
      "source": [
        "# All Libs for HW Grading\n",
        "import numpy as np\n",
        "import math\n",
        "# import seaborn\n",
        "# import torch\n",
        "import pandas as pd\n",
        "import random\n",
        "import math\n",
        "\n",
        "# import sklearn\n",
        "\n",
        "# Test cases\n",
        "def test_eval_exps(student_func):\n",
        "    max_score = 5\n",
        "    n = 10\n",
        "    val = list(map(int, student_func(n)))\n",
        "    if (list(val) == [1, 2, 7, 20, 54, 148, 403, 1096, 2980, 8103, 22026]):\n",
        "        score = max_score\n",
        "    else:\n",
        "        score = 0\n",
        "    # (student score, max score)\n",
        "    return (score, max_score)\n",
        "\n",
        "def test_mean_variance_tuple_from_xs_1(student_func):\n",
        "    import math\n",
        "    max_score = 5\n",
        "    xs = np.array([math.exp(i*1.9)/3 for i in range(10)])\n",
        "    if int(student_func(xs)[0]) == 1046345:\n",
        "        score = max_score\n",
        "    else:\n",
        "        score = 0\n",
        "    return (score, max_score)\n",
        "\n",
        "def test_mean_variance_tuple_from_xs_2(student_func):\n",
        "    max_score = 5\n",
        "    xs = np.array([math.exp(i*2.4)/3 for i in range(3)])\n",
        "    if int(student_func(xs)[1]) == 18:\n",
        "        score = max_score\n",
        "    else:\n",
        "        score = 0\n",
        "    return (score, max_score)\n",
        "\n",
        "def test_get_mean(student_func):\n",
        "    max_score = 10\n",
        "    # set up iris dataset. # PennGrader does not support seaborn for now, use following line to read from raw data instead\n",
        "    import pandas as pd\n",
        "    iris = pd.read_csv('https://raw.githubusercontent.com/mwaskom/seaborn-data/master/iris.csv')\n",
        "    # run tests\n",
        "    n = 8\n",
        "    species = \"setosa\"\n",
        "#     species_top_n = [5.7, 5.5, 5.2, 5.8, 5.4, 5.4, 5.1, 5.7]\n",
        "    species_mean = round(student_func(iris, species, n), 2)\n",
        "    if species_mean == 5.48:\n",
        "        score = max_score\n",
        "    else:\n",
        "        score = 0\n",
        "    return (score, max_score)\n",
        "\n",
        "def test_string_to_cat1(student_func):\n",
        "    max_score = 2\n",
        "    # set up iris dataset\n",
        "    import pandas as pd\n",
        "    iris = pd.read_csv('https://raw.githubusercontent.com/mwaskom/seaborn-data/master/iris.csv')\n",
        "    # run tests\n",
        "    n = 8\n",
        "    df2 = student_func(iris, n)\n",
        "    species = \"setosa\"\n",
        "#     species_cat = {\"setosa\":0, \"versicolor\":1, \"virginica\":2}[species]\n",
        "    column = \"sepal_width\"\n",
        "    column_vals_df2 = [3.5, 3.0, 3.2, 3.1, 3.6, 3.9, 3.4, 3.4, 3.2, 3.2, 3.1, 2.3, 2.8, 2.8, 3.3, 2.4, 3.3, 2.7, 3.0, 2.9, 3.0, 3.0, 2.5, 2.9]\n",
        "    if df2[column].tolist() == column_vals_df2:\n",
        "        score = max_score\n",
        "    else:\n",
        "        score = 0\n",
        "    return (score, max_score)\n",
        "\n",
        "def test_string_to_cat2(student_func):\n",
        "    max_score = 3\n",
        "    # set up iris dataset\n",
        "    import pandas as pd\n",
        "    iris = pd.read_csv('https://raw.githubusercontent.com/mwaskom/seaborn-data/master/iris.csv')\n",
        "    # run tests\n",
        "    n = 8\n",
        "    df2 = student_func(iris, n)\n",
        "    species = \"setosa\"\n",
        "    column = \"species\"\n",
        "#     species_cat = {\"setosa\":0, \"versicolor\":1, \"virginica\":2}[species]\n",
        "    column_vals_df2 = [0, 0, 0, 0, 0, 0, 0, 0, 1, 1, 1, 1, 1, 1, 1, 1, 2, 2, 2, 2, 2, 2, 2, 2]\n",
        "    if df2[column].tolist()== column_vals_df2:\n",
        "        score = max_score\n",
        "    else:\n",
        "        score = 0\n",
        "    return (score, max_score)\n",
        "\n",
        "def test_string_to_cat3(student_func):\n",
        "    max_score = 5\n",
        "    # set up iris dataset\n",
        "    import pandas as pd\n",
        "    iris = pd.read_csv('https://raw.githubusercontent.com/mwaskom/seaborn-data/master/iris.csv')\n",
        "    # run tests\n",
        "    n = 9\n",
        "    df2 = student_func(iris, n)\n",
        "    if np.all(df2.columns == iris.columns):\n",
        "        score = max_score\n",
        "    else:\n",
        "        score = 0\n",
        "    return (score, max_score)"
      ],
      "execution_count": 10,
      "outputs": []
    },
    {
      "cell_type": "code",
      "metadata": {
        "colab": {
          "base_uri": "https://localhost:8080/"
        },
        "id": "3gcC5PjBMw_D",
        "outputId": "0b84ffaf-180e-4f6c-d39d-982c71513bcf"
      },
      "source": [
        "backend.update_test_cases()"
      ],
      "execution_count": 11,
      "outputs": [
        {
          "output_type": "stream",
          "name": "stdout",
          "text": [
            "Importing packages  {'types', 'json', 'math', 'urllib', 'dill', 'ast', 'numpy', 'inspect', 'difflib', 'base64', 'random', 'pandas', 'datetime'}\n",
            "Importing libraries  {('types', 'types'), ('inspect', 'inspect'), ('random', 'random'), ('urllib', 'urllib'), ('ast', 'ast'), ('dill', 'dill'), ('pandas', 'pd'), ('math', 'math'), ('json', 'json'), ('numpy', 'np'), ('base64', 'base64')}\n",
            "Importing functions  set()\n",
            "Adding case {} is_function\n",
            "Adding case {} is_module\n",
            "Adding case {} is_class\n",
            "Adding case {} is_external\n",
            "Adding case {} test_eval_exps\n",
            "Adding case {} test_mean_variance_tuple_from_xs_1\n",
            "Adding case {} test_mean_variance_tuple_from_xs_2\n",
            "Adding case {} test_get_mean\n",
            "Adding case {} test_string_to_cat1\n",
            "Adding case {} test_string_to_cat2\n",
            "Adding case {} test_string_to_cat3\n",
            "Success: Test cases updated successfully.\n"
          ]
        }
      ]
    },
    {
      "cell_type": "code",
      "metadata": {
        "id": "nabIOLd3My9p"
      },
      "source": [
        ""
      ],
      "execution_count": null,
      "outputs": []
    },
    {
      "cell_type": "code",
      "metadata": {
        "id": "i_DfnyFdQYCj"
      },
      "source": [
        ""
      ],
      "execution_count": null,
      "outputs": []
    }
  ]
}